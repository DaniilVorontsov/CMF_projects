{
 "cells": [
  {
   "cell_type": "code",
   "execution_count": 1,
   "id": "361d710e",
   "metadata": {},
   "outputs": [],
   "source": [
    "import numpy as np\n",
    "import pandas as pd\n",
    "import os\n",
    "import seaborn as sns\n",
    "import matplotlib.pyplot as plt"
   ]
  },
  {
   "cell_type": "markdown",
   "id": "88807889",
   "metadata": {},
   "source": [
    "#### Задача\n",
    "1) Выбрать и обучить бейзлайновую модель  \n",
    "2) при необходимости учесть особенности предобработки данных для модели  \n",
    "3) построить кроссвалидацию для временных рядов и использовать ее для оценки модели (если вы решили использовать какую-то другую схему кроссвалидации - отразите это в своем ноутбуке, желательно со ссылкой на источник - мне тоже будет интересно почитать статьи про альтернативы)  \n",
    "4) проинтерпретировать решения модели, насколько это возможно  \n",
    "5) финально оценить качество на тестовой выборке  \n",
    "6) попробовать улучшить результат, работая с данными (генерация признаков, отсев признаков, другой способ предобработки и тп) или подбирая гиперпараметры модели, если они есть  "
   ]
  },
  {
   "cell_type": "code",
   "execution_count": 465,
   "id": "160dc81a",
   "metadata": {},
   "outputs": [],
   "source": [
    "# предвыгруженная информация из файлов (задание EDA)\n",
    "data=pd.read_csv('collected_data.xlsx',index_col=0).set_index('date',drop=True).drop('index',axis=1)"
   ]
  },
  {
   "cell_type": "code",
   "execution_count": 466,
   "id": "c4659799",
   "metadata": {},
   "outputs": [],
   "source": [
    "data.index=pd.to_datetime(data.index, errors='coerce')"
   ]
  },
  {
   "cell_type": "code",
   "execution_count": 434,
   "id": "cc1a0468",
   "metadata": {},
   "outputs": [],
   "source": [
    "company_names=data.company_name.unique()"
   ]
  },
  {
   "cell_type": "code",
   "execution_count": 435,
   "id": "b2188256",
   "metadata": {},
   "outputs": [],
   "source": [
    "dict_companies={}\n",
    "for name in company_names:\n",
    "    dict_companies[f'{name}_data']=data.query('company_name==@name')\n",
    "    dict_companies[f'{name}_train_data']=data.query('company_name==@name')[:-4]"
   ]
  },
  {
   "cell_type": "markdown",
   "id": "3dee9377",
   "metadata": {},
   "source": [
    "### Блок с макроданными\n",
    "Идеи: цена на нефть, газ, индекс акций (Dow John's, etc), ВВП США, экспорт нефти США, добыча нефти"
   ]
  },
  {
   "cell_type": "code",
   "execution_count": 311,
   "id": "231fc9a3",
   "metadata": {},
   "outputs": [],
   "source": [
    "import yfinance as yf"
   ]
  },
  {
   "cell_type": "code",
   "execution_count": 326,
   "id": "b6572027",
   "metadata": {},
   "outputs": [],
   "source": [
    "DJI = yf.Ticker(\"^DJI\")\n",
    "DJI_hist = msft.history(period=\"max\").drop(columns=['Open', 'High', 'Low', 'Volume', 'Dividends', 'Stock Splits'])"
   ]
  },
  {
   "cell_type": "code",
   "execution_count": 336,
   "id": "efaac253",
   "metadata": {},
   "outputs": [],
   "source": [
    "brent_oil=yf.Ticker(\"BZ=F\")\n",
    "hist_oil = brent_oil.history(period=\"max\").drop(columns=['Open', 'High', 'Low', 'Volume', 'Dividends', 'Stock Splits'])"
   ]
  },
  {
   "cell_type": "markdown",
   "id": "6bd5a804",
   "metadata": {},
   "source": [
    "### Блок с моделями"
   ]
  },
  {
   "cell_type": "markdown",
   "id": "57fb6e8b",
   "metadata": {},
   "source": [
    "#### L2 linear model"
   ]
  },
  {
   "cell_type": "code",
   "execution_count": 436,
   "id": "39775d2c",
   "metadata": {},
   "outputs": [],
   "source": [
    "from sklearn.linear_model import Ridge\n",
    "from sklearn.model_selection import cross_val_score"
   ]
  },
  {
   "cell_type": "code",
   "execution_count": 437,
   "id": "82744f55",
   "metadata": {},
   "outputs": [],
   "source": [
    "data=data.merge(DJI_hist,left_index=True,right_index=True).merge(hist_oil,left_index=True,right_index=True)\\\n",
    "        .rename(columns={'Close_x':'Dow_John_s','Close_y':'Brent_price'})"
   ]
  },
  {
   "cell_type": "code",
   "execution_count": 438,
   "id": "188562c9",
   "metadata": {},
   "outputs": [],
   "source": [
    "ampy=data[data['company_name']=='AMPY.xlsx'].drop(columns=['company_name','company_number'])"
   ]
  },
  {
   "cell_type": "code",
   "execution_count": 463,
   "id": "d1382d3c",
   "metadata": {},
   "outputs": [
    {
     "data": {
      "text/html": [
       "<div>\n",
       "<style scoped>\n",
       "    .dataframe tbody tr th:only-of-type {\n",
       "        vertical-align: middle;\n",
       "    }\n",
       "\n",
       "    .dataframe tbody tr th {\n",
       "        vertical-align: top;\n",
       "    }\n",
       "\n",
       "    .dataframe thead th {\n",
       "        text-align: right;\n",
       "    }\n",
       "</style>\n",
       "<table border=\"1\" class=\"dataframe\">\n",
       "  <thead>\n",
       "    <tr style=\"text-align: right;\">\n",
       "      <th></th>\n",
       "      <th>op_in</th>\n",
       "      <th>revenue</th>\n",
       "      <th>Dow_John_s</th>\n",
       "      <th>Brent_price</th>\n",
       "    </tr>\n",
       "  </thead>\n",
       "  <tbody>\n",
       "    <tr>\n",
       "      <th>op_in</th>\n",
       "      <td>1.000000</td>\n",
       "      <td>0.813734</td>\n",
       "      <td>-0.315832</td>\n",
       "      <td>0.299705</td>\n",
       "    </tr>\n",
       "    <tr>\n",
       "      <th>revenue</th>\n",
       "      <td>0.813734</td>\n",
       "      <td>1.000000</td>\n",
       "      <td>-0.083631</td>\n",
       "      <td>0.174266</td>\n",
       "    </tr>\n",
       "    <tr>\n",
       "      <th>Dow_John_s</th>\n",
       "      <td>-0.315832</td>\n",
       "      <td>-0.083631</td>\n",
       "      <td>1.000000</td>\n",
       "      <td>-0.472046</td>\n",
       "    </tr>\n",
       "    <tr>\n",
       "      <th>Brent_price</th>\n",
       "      <td>0.299705</td>\n",
       "      <td>0.174266</td>\n",
       "      <td>-0.472046</td>\n",
       "      <td>1.000000</td>\n",
       "    </tr>\n",
       "  </tbody>\n",
       "</table>\n",
       "</div>"
      ],
      "text/plain": [
       "                op_in   revenue  Dow_John_s  Brent_price\n",
       "op_in        1.000000  0.813734   -0.315832     0.299705\n",
       "revenue      0.813734  1.000000   -0.083631     0.174266\n",
       "Dow_John_s  -0.315832 -0.083631    1.000000    -0.472046\n",
       "Brent_price  0.299705  0.174266   -0.472046     1.000000"
      ]
     },
     "execution_count": 463,
     "metadata": {},
     "output_type": "execute_result"
    }
   ],
   "source": [
    "#слабая корреляция, необходимо добавить ещё макроданных\n",
    "ampy.corr()"
   ]
  },
  {
   "cell_type": "code",
   "execution_count": 440,
   "id": "f6b66128",
   "metadata": {},
   "outputs": [],
   "source": [
    "X=ampy.drop(columns=['op_in','revenue'])\n",
    "X.insert(0, \"intercept\", 1)\n",
    "y=ampy.revenue"
   ]
  },
  {
   "cell_type": "code",
   "execution_count": 441,
   "id": "ba7ef17b",
   "metadata": {},
   "outputs": [],
   "source": [
    "X_train=X[:-4]\n",
    "y_train=y[:-4]\n",
    "X_test=X[-4:]\n",
    "y_test=y[-4:]"
   ]
  },
  {
   "cell_type": "code",
   "execution_count": 442,
   "id": "41fd762b",
   "metadata": {},
   "outputs": [],
   "source": [
    "ridge=Ridge(fit_intercept=False)"
   ]
  },
  {
   "cell_type": "code",
   "execution_count": 443,
   "id": "f0715533",
   "metadata": {},
   "outputs": [
    {
     "data": {
      "text/plain": [
       "Ridge(fit_intercept=False)"
      ]
     },
     "execution_count": 443,
     "metadata": {},
     "output_type": "execute_result"
    }
   ],
   "source": [
    "ridge.fit(X_train,y_train)"
   ]
  },
  {
   "cell_type": "code",
   "execution_count": 444,
   "id": "c49b692c",
   "metadata": {},
   "outputs": [],
   "source": [
    "y_pred=ridge.predict(X_test)"
   ]
  },
  {
   "cell_type": "code",
   "execution_count": 445,
   "id": "555f79cc",
   "metadata": {},
   "outputs": [
    {
     "data": {
      "text/plain": [
       "array([ 0.00000000e+00, -2.33820658e+00, -1.84827502e+02, -1.28974266e+02,\n",
       "       -1.42134562e+01, -9.25499646e-02, -5.84488073e+02, -1.24802172e+02,\n",
       "       -9.80354365e+02, -2.22262086e+01])"
      ]
     },
     "execution_count": 445,
     "metadata": {},
     "output_type": "execute_result"
    }
   ],
   "source": [
    "cross_val_score(ridge, X_train, y_train, cv=10, scoring='r2')"
   ]
  },
  {
   "cell_type": "code",
   "execution_count": 458,
   "id": "a0eedabe",
   "metadata": {},
   "outputs": [
    {
     "data": {
      "image/png": "[encoded data removed]",
      "text/plain": [
       "<Figure size 432x288 with 1 Axes>"
      ]
     },
     "metadata": {
      "needs_background": "light"
     },
     "output_type": "display_data"
    }
   ],
   "source": [
    "plt.plot(y_test, label='fact')\n",
    "plt.plot(pd.DataFrame({'pred':y_pred},index=y_test.index), label='pred' )\n",
    "plt.legend()\n",
    "plt.title('L2 linear regression')\n",
    "plt.grid()\n",
    "plt.show()"
   ]
  },
  {
   "cell_type": "code",
   "execution_count": 447,
   "id": "b6b48bab",
   "metadata": {
    "scrolled": true
   },
   "outputs": [
    {
     "data": {
      "text/plain": [
       "3529.8645292090696"
      ]
     },
     "execution_count": 447,
     "metadata": {},
     "output_type": "execute_result"
    }
   ],
   "source": [
    "mse(y_test,y_pred)"
   ]
  },
  {
   "cell_type": "code",
   "execution_count": 448,
   "id": "b3c9986e",
   "metadata": {},
   "outputs": [
    {
     "data": {
      "text/plain": [
       "-10.38378302540835"
      ]
     },
     "execution_count": 448,
     "metadata": {},
     "output_type": "execute_result"
    }
   ],
   "source": [
    "r2_score(y_test,y_pred)"
   ]
  },
  {
   "cell_type": "markdown",
   "id": "77c48241",
   "metadata": {},
   "source": [
    "### Random Forest Regressor"
   ]
  },
  {
   "cell_type": "code",
   "execution_count": 449,
   "id": "40d24a82",
   "metadata": {},
   "outputs": [],
   "source": [
    "from sklearn.ensemble import RandomForestRegressor"
   ]
  },
  {
   "cell_type": "code",
   "execution_count": 450,
   "id": "a7ef4518",
   "metadata": {},
   "outputs": [],
   "source": [
    "rf=RandomForestRegressor()"
   ]
  },
  {
   "cell_type": "code",
   "execution_count": 451,
   "id": "ed9a3cf6",
   "metadata": {},
   "outputs": [
    {
     "data": {
      "text/plain": [
       "RandomForestRegressor()"
      ]
     },
     "execution_count": 451,
     "metadata": {},
     "output_type": "execute_result"
    }
   ],
   "source": [
    "rf.fit(X_train,y_train)"
   ]
  },
  {
   "cell_type": "code",
   "execution_count": 452,
   "id": "825a250d",
   "metadata": {},
   "outputs": [],
   "source": [
    "y_pred=rf.predict(X_test)"
   ]
  },
  {
   "cell_type": "code",
   "execution_count": 460,
   "id": "04b35318",
   "metadata": {},
   "outputs": [
    {
     "data": {
      "image/png": "[encoded data removed]",
      "text/plain": [
       "<Figure size 432x288 with 1 Axes>"
      ]
     },
     "metadata": {
      "needs_background": "light"
     },
     "output_type": "display_data"
    }
   ],
   "source": [
    "plt.plot(y_test, label='fact')\n",
    "plt.plot(pd.DataFrame({'pred':y_pred},index=y_test.index), label='pred' )\n",
    "plt.legend()\n",
    "plt.title('Random Forest regression')\n",
    "plt.grid()\n",
    "plt.show()"
   ]
  },
  {
   "cell_type": "code",
   "execution_count": 454,
   "id": "3110f13d",
   "metadata": {},
   "outputs": [
    {
     "data": {
      "text/plain": [
       "286.06956995047506"
      ]
     },
     "execution_count": 454,
     "metadata": {},
     "output_type": "execute_result"
    }
   ],
   "source": [
    "mse(y_test,y_pred)"
   ]
  },
  {
   "cell_type": "code",
   "execution_count": 455,
   "id": "fbf8c1e1",
   "metadata": {},
   "outputs": [
    {
     "data": {
      "text/plain": [
       "0.07742807477719982"
      ]
     },
     "execution_count": 455,
     "metadata": {},
     "output_type": "execute_result"
    }
   ],
   "source": [
    "r2_score(y_test,y_pred)"
   ]
  },
  {
   "cell_type": "code",
   "execution_count": null,
   "id": "961cb787",
   "metadata": {},
   "outputs": [],
   "source": []
  },
  {
   "cell_type": "markdown",
   "id": "59e18209",
   "metadata": {},
   "source": [
    "### ARIMA без макроданных"
   ]
  },
  {
   "cell_type": "code",
   "execution_count": null,
   "id": "92cd9fa9",
   "metadata": {},
   "outputs": [],
   "source": [
    "data=pd.read_csv('collected_data.xlxs',index_col=0).set_index('date',drop=True).drop('index',axis=1)"
   ]
  },
  {
   "cell_type": "markdown",
   "id": "ea52298c",
   "metadata": {},
   "source": [
    "$l_{1}$ - оператор разностей"
   ]
  },
  {
   "cell_type": "code",
   "execution_count": 3,
   "id": "eecdbcea",
   "metadata": {},
   "outputs": [],
   "source": [
    "data['op_in_l1']=(data.op_in.shift(-1)-data.op_in).fillna(0)\n",
    "data['revenue_l1']=(data.revenue.shift(-1)-data.revenue).fillna(0)\n",
    "data['op_in_l2']=(data.op_in_l1.shift(-1)-data.op_in_l1).fillna(0)\n",
    "data['revenue_l2']=(data.revenue_l1.shift(-1)-data.revenue_l1).fillna(0)\n",
    "data['op_in_l3']=(data.op_in_l2.shift(-1)-data.op_in_l2).fillna(0)\n",
    "data['revenue_l3']=(data.revenue_l2.shift(-1)-data.revenue_l2).fillna(0)"
   ]
  },
  {
   "cell_type": "code",
   "execution_count": null,
   "id": "9a1a5926",
   "metadata": {},
   "outputs": [],
   "source": [
    "dict_companies={}\n",
    "for name in company_names:\n",
    "    dict_companies[f'{name}_data']=data.query('company_name==@name')\n",
    "    dict_companies[f'{name}_train_data']=data.query('company_name==@name')[:-4]"
   ]
  },
  {
   "cell_type": "code",
   "execution_count": 272,
   "id": "4bba58bb",
   "metadata": {},
   "outputs": [],
   "source": [
    "import statsmodels.tsa.stattools as stools\n",
    "from statsmodels.tsa.arima.model import ARIMA"
   ]
  },
  {
   "cell_type": "markdown",
   "id": "489d0021",
   "metadata": {},
   "source": [
    "Revenue"
   ]
  },
  {
   "cell_type": "code",
   "execution_count": 274,
   "id": "d3be7d74",
   "metadata": {},
   "outputs": [],
   "source": [
    "import warnings\n",
    "warnings.filterwarnings(\"ignore\")"
   ]
  },
  {
   "cell_type": "code",
   "execution_count": 275,
   "id": "a91920e9",
   "metadata": {},
   "outputs": [
    {
     "data": {
      "text/plain": [
       "(38, 10)"
      ]
     },
     "execution_count": 275,
     "metadata": {},
     "output_type": "execute_result"
    }
   ],
   "source": [
    "dict_companies['AMPY.xlsx_train_data']shape"
   ]
  },
  {
   "cell_type": "code",
   "execution_count": 306,
   "id": "5bab2746",
   "metadata": {},
   "outputs": [],
   "source": [
    "from pmdarima import auto_arima"
   ]
  },
  {
   "cell_type": "markdown",
   "id": "5ff598f1",
   "metadata": {},
   "source": [
    "Расчёт параметров для revenue"
   ]
  },
  {
   "cell_type": "markdown",
   "id": "ab4b4d83",
   "metadata": {},
   "source": [
    "**Augmented Dickey–Fuller test and ARMA order selection**  \n",
    "(пытался самостоятельно рассчитать p,d,q), впоследствии от идеи отказался"
   ]
  },
  {
   "cell_type": "code",
   "execution_count": 268,
   "id": "f53cf993",
   "metadata": {},
   "outputs": [
    {
     "name": "stdout",
     "output_type": "stream",
     "text": [
      "CPU times: total: 41.9 s\n",
      "Wall time: 42 s\n"
     ]
    }
   ],
   "source": [
    "%%time\n",
    "arima_parameters={}\n",
    "for name in company_names:\n",
    "\n",
    "    #нахождение порядка интегрируемости через тестирование стационарности\n",
    "    #если находим порядок интегрируемости, записываем порядки AR(p), I, MA(q) в словарь с порядками для рядов всех компний\n",
    "    #если стационарности нет, переходим к следующей разности\n",
    "    p=stools.adfuller(dict_companies[f'{name}_data'].revenue,regression='c')[1]\n",
    "    if p<0.05:\n",
    "        arma=stools.arma_order_select_ic(dict_companies[f'{name}_data'].revenue,max_ar=3,max_ma=3,ic='bic')['bic_min_order']\n",
    "        #print(name,arma,0)\n",
    "        arima_parameters[name]=[arma[0],0,arma[1] ]\n",
    "        continue\n",
    "    #первая разность\n",
    "    p=stools.adfuller(dict_companies[f'{name}_data'].revenue_l1,regression='c')[1]\n",
    "    if p<0.05:\n",
    "        arma=stools.arma_order_select_ic(dict_companies[f'{name}_data'].revenue_l1,max_ar=3,max_ma=3,ic='bic')['bic_min_order']\n",
    "        #print(name,arma,1)\n",
    "        arima_parameters[name]=[arma[0],1,arma[1] ]\n",
    "        continue\n",
    "    #вторая разность\n",
    "    p=stools.adfuller(dict_companies[f'{name}_data'].revenue_l2,regression='c')[1]\n",
    "    if p<0.05:\n",
    "        p_values[name]=p\n",
    "        arma=stools.arma_order_select_ic(dict_companies[f'{name}_data'].revenue_l2,max_ar=3,max_ma=3,ic='bic')['bic_min_order']\n",
    "        #print(name,arma,2)\n",
    "        arima_parameters[name]=[arma[0],2,arma[1] ]\n",
    "        continue\n",
    "    #третья разность\n",
    "    p=stools.adfuller(dict_companies[f'{name}_data'].revenue_l3,regression='c')[1]\n",
    "    arma=stools.arma_order_select_ic(dict_companies[f'{name}_data'].revenue_l3,max_ar=3,max_ma=3,ic='bic')['bic_min_order']\n",
    "    #print(name,arma,3)\n",
    "    arima_parameters[name]=[arma[0],3,arma[1] ]\n",
    "    continue"
   ]
  },
  {
   "cell_type": "code",
   "execution_count": 186,
   "id": "178fea73",
   "metadata": {},
   "outputs": [],
   "source": [
    "from sklearn.metrics import r2_score, mean_squared_error as mse"
   ]
  },
  {
   "cell_type": "code",
   "execution_count": 260,
   "id": "9e252520",
   "metadata": {},
   "outputs": [],
   "source": [
    "y_fact=dict_companies['AMPY.xlsx_data'].revenue.tail(4)\n",
    "y_pred=fit_model.predict(start=38,end=41)"
   ]
  },
  {
   "cell_type": "code",
   "execution_count": 261,
   "id": "4d372ed8",
   "metadata": {},
   "outputs": [],
   "source": [
    "y_fact.index=pd.to_datetime(y_fact.index, errors='coerce')"
   ]
  },
  {
   "cell_type": "markdown",
   "id": "825c546b",
   "metadata": {},
   "source": [
    "Результаты:"
   ]
  },
  {
   "cell_type": "code",
   "execution_count": 310,
   "id": "b1295cbb",
   "metadata": {},
   "outputs": [
    {
     "name": "stdout",
     "output_type": "stream",
     "text": [
      "AMPY.xlsx,\t mse: 1269.8862230651491\tr2_score: -8.73939493273097\n",
      "APA.xlsx,\t mse: 2324047.6956488467\tr2_score: -14.1679751913621\n",
      "AR.xlsx,\t mse: 1360728.647242886\tr2_score: -6.994621158624775\n",
      "BATL.xlsx,\t mse: 494.8330942293909\tr2_score: -6.075505434809186\n",
      "BCEI.xlsx,\t mse: 4780.998069649391\tr2_score: -2.029327142851754\n",
      "BRY.xlsx,\t mse: 4401.823427496816\tr2_score: -8.067320873736948\n",
      "BSM.xlsx,\t mse: 946.903234337449\tr2_score: -5.615604555732931\n",
      "CDEV.xlsx,\t mse: 16201.94684053987\tr2_score: -17.03810237949414\n",
      "CHK.xlsx,\t mse: 982724.9229747445\tr2_score: -23.047968862562577\n",
      "CLR.xlsx,\t mse: 986480.5041380131\tr2_score: -17.098311884045064\n",
      "CNX.xlsx,\t mse: 117626.23660307578\tr2_score: -65.14944608101992\n",
      "COG.xlsx,\t mse: 120519.64040468688\tr2_score: -25.31851406960614\n",
      "COP.xlsx,\t mse: 58850727.0507217\tr2_score: -9.132169553608088\n",
      "CPE.xlsx,\t mse: 102709.72784122161\tr2_score: -26.87455037890264\n",
      "CRC.xlsx,\t mse: 120801.8453949684\tr2_score: -51.064150585052644\n",
      "CRK.xlsx,\t mse: 68246.51828307725\tr2_score: -14.105121745984324\n",
      "DEN.xlsx,\t mse: 33712.78916039004\tr2_score: -194.98091934838612\n",
      "DVN.xlsx,\t mse: 2886535.1464683292\tr2_score: -10.330210539956472\n",
      "EGY.xlsx,\t mse: 248.82245331870678\tr2_score: -0.20485600225452738\n",
      "EOG.xlsx,\t mse: 12418132.326741189\tr2_score: -23.137418479702895\n",
      "EQT.xlsx,\t mse: 885173.9778168874\tr2_score: -112.14210450800942\n",
      "ESTE.xlsx,\t mse: 1380.4379212670588\tr2_score: -1.7282332778771474\n",
      "FANG.xlsx,\t mse: 950148.8807514383\tr2_score: -12.242770625358274\n",
      "GDP.xlsx,\t mse: 42.719377477825056\tr2_score: -0.7777655813570257\n",
      "HES.xlsx,\t mse: 2201877.3217117973\tr2_score: -27.18360216121139\n",
      "LONE.xlsx,\t mse: 81.11847716982855\tr2_score: -0.9797251012374963\n",
      "LPI.xlsx,\t mse: 36056.79829520518\tr2_score: -191.30505085593686\n",
      "MCF.xlsx,\t mse: 915.7502119527962\tr2_score: -0.8234883836088605\n",
      "MGY.xlsx,\t mse: 25188.346364330388\tr2_score: -8.908763443578618\n",
      "MNRL.xlsx,\t mse: 64.31769222307994\tr2_score: -0.5932405489606691\n",
      "MRO.xlsx,\t mse: 999704.7136193216\tr2_score: -20.79798284834857\n",
      "MTDR.xlsx,\t mse: 71120.47648069687\tr2_score: -11.767744866142266\n",
      "MUR.xlsx,\t mse: 152488.30752593072\tr2_score: -26.23049806578235\n",
      "NOG.xlsx,\t mse: 153.9163487939834\tr2_score: 0.07390939948506703\n",
      "OAS.xlsx,\t mse: 84105.45967159924\tr2_score: -63.13619888634416\n",
      "OVV.xlsx,\t mse: 2399202.854265664\tr2_score: -40.25602459445032\n",
      "PDCE.xlsx,\t mse: 114530.99268894689\tr2_score: -17.37285873866338\n",
      "PVAC.xlsx,\t mse: 3646.0496290186597\tr2_score: -5.838568157531219\n",
      "PXD.xlsx,\t mse: 6901656.258083856\tr2_score: -11.052215025568\n",
      "REI.xlsx,\t mse: 93.31064462263282\tr2_score: -1.0342105869621228\n",
      "RRC.xlsx,\t mse: 301162.2163175256\tr2_score: -87.88691452771577\n",
      "SBOW.xlsx,\t mse: 1294.4648601136141\tr2_score: -4.191229489641441\n",
      "SD.xlsx,\t mse: 15.854503920783385\tr2_score: -1.2819256677644377\n",
      "SM.xlsx,\t mse: 149591.76787141126\tr2_score: -11.147239581289362\n",
      "SWN.xlsx,\t mse: 776926.7945075113\tr2_score: -22.385780798073917\n",
      "TALO.xlsx,\t mse: 40329.18090707259\tr2_score: -7.732139187881835\n",
      "TPL.xlsx,\t mse: 2608.992146245038\tr2_score: -32.041739479253046\n",
      "VNOM.xlsx,\t mse: 3511.7287041545533\tr2_score: -8.193009793824528\n",
      "WLL.xlsx,\t mse: 58495.07587065486\tr2_score: -11.514111237513726\n",
      "WTI.xlsx,\t mse: 4476.793947806891\tr2_score: -17.875684745262575\n",
      "XEC.xlsx,\t mse: 250918.3752586405\tr2_score: -24.648814331320015\n",
      "XOG.xlsx,\t mse: 35031.76223360907\tr2_score: -11.562234106462348\n"
     ]
    }
   ],
   "source": [
    "for name in company_names:\n",
    "    arima_model=auto_arima(dict_companies[f'{name}_train_data'].revenue, seasonal=True)\n",
    "    y_fact=dict_companies[f'{name}_data'].revenue.tail(4)\n",
    "    y_pred=auto_ampy.predict(4)\n",
    "    y_fact.index=pd.to_datetime(y_fact.index, errors='coerce')\n",
    "    print(f'{name},\\t mse:',mse(y_fact, y_pred),end='\\t')\n",
    "    print('r2_score:',r2_score(y_fact, y_pred))"
   ]
  },
  {
   "cell_type": "markdown",
   "id": "742aa9e9",
   "metadata": {},
   "source": [
    "Вывод: без макроданных и без учёта сезонности результат неудовлетворительный"
   ]
  },
  {
   "cell_type": "markdown",
   "id": "86248957",
   "metadata": {},
   "source": [
    "Работа с сезонностью:"
   ]
  },
  {
   "cell_type": "code",
   "execution_count": 401,
   "id": "a9b41a83",
   "metadata": {},
   "outputs": [
    {
     "data": {
      "image/png": "[encoded data removed]",
      "text/plain": [
       "<Figure size 432x288 with 4 Axes>"
      ]
     },
     "metadata": {
      "needs_background": "light"
     },
     "output_type": "display_data"
    }
   ],
   "source": [
    "from statsmodels.tsa.seasonal import seasonal_decompose\n",
    "result = seasonal_decompose(dict_companies['AMPY.xlsx_data'].revenue)\n",
    "result.plot();"
   ]
  },
  {
   "cell_type": "code",
   "execution_count": 405,
   "id": "4f1f794b",
   "metadata": {
    "scrolled": true
   },
   "outputs": [
    {
     "data": {
      "image/png": "[encoded data removed]",
      "text/plain": [
       "<Figure size 432x288 with 4 Axes>"
      ]
     },
     "metadata": {
      "needs_background": "light"
     },
     "output_type": "display_data"
    }
   ],
   "source": [
    "from statsmodels.tsa.seasonal import seasonal_decompose\n",
    "result = seasonal_decompose(dict_companies['AMPY.xlsx_data'].op_in)\n",
    "result.plot();"
   ]
  },
  {
   "cell_type": "code",
   "execution_count": null,
   "id": "c7cb3ffd",
   "metadata": {},
   "outputs": [],
   "source": []
  },
  {
   "cell_type": "code",
   "execution_count": null,
   "id": "2ad4c2d2",
   "metadata": {},
   "outputs": [],
   "source": []
  }
 ],
 "metadata": {
  "kernelspec": {
   "display_name": "Python 3 (ipykernel)",
   "language": "python",
   "name": "python3"
  },
  "language_info": {
   "codemirror_mode": {
    "name": "ipython",
    "version": 3
   },
   "file_extension": ".py",
   "mimetype": "text/x-python",
   "name": "python",
   "nbconvert_exporter": "python",
   "pygments_lexer": "ipython3",
   "version": "3.9.12"
  }
 },
 "nbformat": 4,
 "nbformat_minor": 5
}
