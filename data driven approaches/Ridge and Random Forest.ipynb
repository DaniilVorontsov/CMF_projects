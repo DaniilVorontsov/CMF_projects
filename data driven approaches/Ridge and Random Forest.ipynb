{
 "cells": [
  {
   "cell_type": "code",
   "execution_count": 2,
   "id": "e69a2bb0",
   "metadata": {},
   "outputs": [],
   "source": [
    "import numpy as np\n",
    "import pandas as pd\n",
    "import seaborn as sns\n",
    "import matplotlib.pyplot as plt\n",
    "pd.options.mode.chained_assignment = None  # default='warn' заглушить SettingWithCopyWarning"
   ]
  },
  {
   "cell_type": "markdown",
   "id": "07fba8c3",
   "metadata": {},
   "source": [
    "### Выгрузка данных"
   ]
  },
  {
   "cell_type": "code",
   "execution_count": 28,
   "id": "1c140fc1",
   "metadata": {},
   "outputs": [],
   "source": [
    "#датасет из слака\n",
    "data_slack=pd.read_csv('raw_data.csv',low_memory=False,header=[0, 1])"
   ]
  },
  {
   "cell_type": "code",
   "execution_count": 3,
   "id": "b4952d08",
   "metadata": {},
   "outputs": [],
   "source": [
    "#датасет с соревнования \n",
    "dataset = pd.read_csv('train.zip', index_col=0, header=[0, 1])\n",
    "dataset.rename(\n",
    "    columns={\n",
    "        'Unnamed: 209_level_1': 'count',\n",
    "        'Unnamed: 210_level_1': 'price',\n",
    "    },\n",
    "    level = 1,\n",
    "    inplace = True\n",
    ")\n",
    "data_competition=dataset.copy()"
   ]
  },
  {
   "cell_type": "code",
   "execution_count": 29,
   "id": "556faa0e",
   "metadata": {},
   "outputs": [],
   "source": [
    "del dataset"
   ]
  },
  {
   "cell_type": "code",
   "execution_count": 4,
   "id": "7a417af7",
   "metadata": {},
   "outputs": [],
   "source": [
    "data_competition['price_in_60s']=data_competition['price']['price'].shift(60).fillna(0)\n",
    "data_competition=data_competition[data_competition.price_in_60s!=0]"
   ]
  },
  {
   "cell_type": "code",
   "execution_count": 5,
   "id": "dd7b58b1",
   "metadata": {},
   "outputs": [],
   "source": [
    "data_competition['y']=np.log(data_competition['price_in_60s']/data_competition['price']['price'])"
   ]
  },
  {
   "cell_type": "code",
   "execution_count": 67,
   "id": "e989c81f",
   "metadata": {},
   "outputs": [
    {
     "data": {
      "text/html": [
       "<div>\n",
       "<style scoped>\n",
       "    .dataframe tbody tr th:only-of-type {\n",
       "        vertical-align: middle;\n",
       "    }\n",
       "\n",
       "    .dataframe tbody tr th {\n",
       "        vertical-align: top;\n",
       "    }\n",
       "\n",
       "    .dataframe thead tr th {\n",
       "        text-align: left;\n",
       "    }\n",
       "</style>\n",
       "<table border=\"1\" class=\"dataframe\">\n",
       "  <thead>\n",
       "    <tr>\n",
       "      <th></th>\n",
       "      <th>timestamp_second</th>\n",
       "      <th colspan=\"8\" halign=\"left\">bid_price_0</th>\n",
       "      <th>bid_quantity_0</th>\n",
       "      <th>...</th>\n",
       "      <th colspan=\"8\" halign=\"left\">sell_trade_quantity</th>\n",
       "      <th>count</th>\n",
       "      <th>y</th>\n",
       "    </tr>\n",
       "    <tr>\n",
       "      <th></th>\n",
       "      <th>Unnamed: 0_level_1</th>\n",
       "      <th>nunique</th>\n",
       "      <th>mean</th>\n",
       "      <th>median</th>\n",
       "      <th>std</th>\n",
       "      <th>min</th>\n",
       "      <th>max</th>\n",
       "      <th>first</th>\n",
       "      <th>last</th>\n",
       "      <th>nunique</th>\n",
       "      <th>...</th>\n",
       "      <th>sum</th>\n",
       "      <th>mean</th>\n",
       "      <th>median</th>\n",
       "      <th>std</th>\n",
       "      <th>min</th>\n",
       "      <th>max</th>\n",
       "      <th>first</th>\n",
       "      <th>last</th>\n",
       "      <th>Unnamed: 207_level_1</th>\n",
       "      <th>Unnamed: 208_level_1</th>\n",
       "    </tr>\n",
       "  </thead>\n",
       "  <tbody>\n",
       "    <tr>\n",
       "      <th>0</th>\n",
       "      <td>0</td>\n",
       "      <td>7</td>\n",
       "      <td>44.183379</td>\n",
       "      <td>44.1865</td>\n",
       "      <td>0.007340</td>\n",
       "      <td>44.171</td>\n",
       "      <td>44.190</td>\n",
       "      <td>44.171</td>\n",
       "      <td>44.190</td>\n",
       "      <td>5</td>\n",
       "      <td>...</td>\n",
       "      <td>0.0</td>\n",
       "      <td>NaN</td>\n",
       "      <td>NaN</td>\n",
       "      <td>NaN</td>\n",
       "      <td>NaN</td>\n",
       "      <td>NaN</td>\n",
       "      <td>NaN</td>\n",
       "      <td>NaN</td>\n",
       "      <td>66</td>\n",
       "      <td>-0.065894</td>\n",
       "    </tr>\n",
       "    <tr>\n",
       "      <th>1</th>\n",
       "      <td>1</td>\n",
       "      <td>1</td>\n",
       "      <td>44.190000</td>\n",
       "      <td>44.1900</td>\n",
       "      <td>0.000000</td>\n",
       "      <td>44.190</td>\n",
       "      <td>44.190</td>\n",
       "      <td>44.190</td>\n",
       "      <td>44.190</td>\n",
       "      <td>1</td>\n",
       "      <td>...</td>\n",
       "      <td>0.0</td>\n",
       "      <td>NaN</td>\n",
       "      <td>NaN</td>\n",
       "      <td>NaN</td>\n",
       "      <td>NaN</td>\n",
       "      <td>NaN</td>\n",
       "      <td>NaN</td>\n",
       "      <td>NaN</td>\n",
       "      <td>13</td>\n",
       "      <td>-0.066870</td>\n",
       "    </tr>\n",
       "    <tr>\n",
       "      <th>2</th>\n",
       "      <td>2</td>\n",
       "      <td>3</td>\n",
       "      <td>44.187467</td>\n",
       "      <td>44.1860</td>\n",
       "      <td>0.001767</td>\n",
       "      <td>44.186</td>\n",
       "      <td>44.190</td>\n",
       "      <td>44.190</td>\n",
       "      <td>44.186</td>\n",
       "      <td>3</td>\n",
       "      <td>...</td>\n",
       "      <td>0.0</td>\n",
       "      <td>NaN</td>\n",
       "      <td>NaN</td>\n",
       "      <td>NaN</td>\n",
       "      <td>NaN</td>\n",
       "      <td>NaN</td>\n",
       "      <td>NaN</td>\n",
       "      <td>NaN</td>\n",
       "      <td>15</td>\n",
       "      <td>-0.064833</td>\n",
       "    </tr>\n",
       "    <tr>\n",
       "      <th>3</th>\n",
       "      <td>3</td>\n",
       "      <td>3</td>\n",
       "      <td>44.181038</td>\n",
       "      <td>44.1860</td>\n",
       "      <td>0.006993</td>\n",
       "      <td>44.173</td>\n",
       "      <td>44.188</td>\n",
       "      <td>44.186</td>\n",
       "      <td>44.188</td>\n",
       "      <td>2</td>\n",
       "      <td>...</td>\n",
       "      <td>0.0</td>\n",
       "      <td>NaN</td>\n",
       "      <td>NaN</td>\n",
       "      <td>NaN</td>\n",
       "      <td>NaN</td>\n",
       "      <td>NaN</td>\n",
       "      <td>NaN</td>\n",
       "      <td>NaN</td>\n",
       "      <td>52</td>\n",
       "      <td>-0.040764</td>\n",
       "    </tr>\n",
       "    <tr>\n",
       "      <th>4</th>\n",
       "      <td>4</td>\n",
       "      <td>2</td>\n",
       "      <td>44.213095</td>\n",
       "      <td>44.2190</td>\n",
       "      <td>0.012474</td>\n",
       "      <td>44.188</td>\n",
       "      <td>44.219</td>\n",
       "      <td>44.188</td>\n",
       "      <td>44.219</td>\n",
       "      <td>2</td>\n",
       "      <td>...</td>\n",
       "      <td>0.0</td>\n",
       "      <td>NaN</td>\n",
       "      <td>NaN</td>\n",
       "      <td>NaN</td>\n",
       "      <td>NaN</td>\n",
       "      <td>NaN</td>\n",
       "      <td>NaN</td>\n",
       "      <td>NaN</td>\n",
       "      <td>21</td>\n",
       "      <td>-0.063813</td>\n",
       "    </tr>\n",
       "  </tbody>\n",
       "</table>\n",
       "<p>5 rows × 209 columns</p>\n",
       "</div>"
      ],
      "text/plain": [
       "    timestamp_second bid_price_0                                        \\\n",
       "  Unnamed: 0_level_1     nunique       mean   median       std     min   \n",
       "0                  0           7  44.183379  44.1865  0.007340  44.171   \n",
       "1                  1           1  44.190000  44.1900  0.000000  44.190   \n",
       "2                  2           3  44.187467  44.1860  0.001767  44.186   \n",
       "3                  3           3  44.181038  44.1860  0.006993  44.173   \n",
       "4                  4           2  44.213095  44.2190  0.012474  44.188   \n",
       "\n",
       "                          bid_quantity_0  ... sell_trade_quantity              \\\n",
       "      max   first    last        nunique  ...                 sum mean median   \n",
       "0  44.190  44.171  44.190              5  ...                 0.0  NaN    NaN   \n",
       "1  44.190  44.190  44.190              1  ...                 0.0  NaN    NaN   \n",
       "2  44.190  44.190  44.186              3  ...                 0.0  NaN    NaN   \n",
       "3  44.188  44.186  44.188              2  ...                 0.0  NaN    NaN   \n",
       "4  44.219  44.188  44.219              2  ...                 0.0  NaN    NaN   \n",
       "\n",
       "                                        count                    y  \n",
       "  std min max first last Unnamed: 207_level_1 Unnamed: 208_level_1  \n",
       "0 NaN NaN NaN   NaN  NaN                   66            -0.065894  \n",
       "1 NaN NaN NaN   NaN  NaN                   13            -0.066870  \n",
       "2 NaN NaN NaN   NaN  NaN                   15            -0.064833  \n",
       "3 NaN NaN NaN   NaN  NaN                   52            -0.040764  \n",
       "4 NaN NaN NaN   NaN  NaN                   21            -0.063813  \n",
       "\n",
       "[5 rows x 209 columns]"
      ]
     },
     "execution_count": 67,
     "metadata": {},
     "output_type": "execute_result"
    }
   ],
   "source": [
    "data_slack.head()"
   ]
  },
  {
   "cell_type": "code",
   "execution_count": 30,
   "id": "f882c7cb",
   "metadata": {
    "scrolled": false
   },
   "outputs": [],
   "source": [
    "#data=data_competition\n",
    "data=data_slack.copy()"
   ]
  },
  {
   "cell_type": "markdown",
   "id": "f3bd5781",
   "metadata": {},
   "source": [
    "## Сборка признаков"
   ]
  },
  {
   "cell_type": "markdown",
   "id": "697499a5",
   "metadata": {},
   "source": [
    "#### Таблица с используемыми признаками:\n",
    "(Benchmark Dataset for Mid-Price Forecasting of Limit Order Book Data with Machine Learning Methods)\n",
    "\n",
    "пока реализованы $u_{1},u_{2},u_{3},u_{4}$"
   ]
  },
  {
   "cell_type": "markdown",
   "id": "92221e83",
   "metadata": {},
   "source": [
    "![title](features.png)"
   ]
  },
  {
   "cell_type": "markdown",
   "id": "172f932f",
   "metadata": {},
   "source": [
    "Basic"
   ]
  },
  {
   "cell_type": "code",
   "execution_count": 50,
   "id": "4f06d74b",
   "metadata": {
    "scrolled": false
   },
   "outputs": [],
   "source": [
    "#5 levels LOB\n",
    "U1=pd.DataFrame()\n",
    "for i in range(5):\n",
    "    U1[f'ask_price_level_{i+1}']=data[f'ask_price_{i}']['mean']\n",
    "    U1[f'ask_quantity_{i+1}']=data[f'ask_quantity_{i}']['sum']\n",
    "    \n",
    "    U1[f'bid_price_level_{i+1}']=data[f'bid_price_{i}']['mean']\n",
    "    U1[f'bid_quantity_{i+1}']=data[f'bid_quantity_{i}']['sum']#"
   ]
  },
  {
   "cell_type": "markdown",
   "id": "6a01e5f3",
   "metadata": {},
   "source": [
    "Time-Insensitive"
   ]
  },
  {
   "cell_type": "code",
   "execution_count": 51,
   "id": "24d36a55",
   "metadata": {},
   "outputs": [],
   "source": [
    "#Spread & mid-price\n",
    "U2=pd.DataFrame()\n",
    "for i in range(1,6,1):\n",
    "    U2[f'spread_{i}'] = U1[f'ask_price_level_{i}']-U1[f'bid_price_level_{i}']\n",
    "    U2[f'mid_price_{i}'] = (U1[f'ask_price_level_{i}'] + U1[f'bid_price_level_{i}'])/2"
   ]
  },
  {
   "cell_type": "code",
   "execution_count": 52,
   "id": "aaf0c9a9",
   "metadata": {},
   "outputs": [],
   "source": [
    "#price differences\n",
    "U3=pd.DataFrame()\n",
    "for i in range(2,6,1):\n",
    "    U3['ask_price_diff'] = U1['ask_price_level_5'] - U1['ask_price_level_1']\n",
    "    U3['bid_price_diff'] = U1['bid_price_level_1'] - U1[f'bid_price_level_5']\n",
    "    U3[f'abs_ask_price_diff_{i}'] = abs(U1[f'ask_price_level_{i}']-\\\n",
    "                                    U1[f'ask_price_level_{i-1}'])\n",
    "    U3[f'abs_bid_price_diff_{i}'] = abs(U1[f'bid_price_level_{i}']-\\\n",
    "                                    U1[f'bid_price_level_{i-1}'])"
   ]
  },
  {
   "cell_type": "code",
   "execution_count": 53,
   "id": "b9a6434e",
   "metadata": {},
   "outputs": [],
   "source": [
    "#Price & volume mean\n",
    "U4=pd.DataFrame()\n",
    "for i in range(1,6,1):\n",
    "    U4['mean_price_ask'] = (\n",
    "        U1['ask_price_level_1']+U1['ask_price_level_2']+\\\n",
    "        U1['ask_price_level_3']+U1['ask_price_level_4']+\\\n",
    "        U1['ask_price_level_5'] )/5\n",
    "    U4['mean_price_bid'] = (\n",
    "        U1['bid_price_level_1']+U1['bid_price_level_2']+\\\n",
    "        U1['bid_price_level_3']+U1['bid_price_level_4']+\\\n",
    "        U1['bid_price_level_5'] )/5\n",
    "    \n",
    "    U4['mean_vol_ask'] = (\n",
    "        U1['ask_quantity_1']+U1['ask_quantity_2']+\\\n",
    "        U1['ask_quantity_3']+U1['ask_quantity_4']+\\\n",
    "        U1['ask_quantity_5'] )/5\n",
    "    U4['mean_vol_bid'] = (\n",
    "        U1['bid_quantity_1']+U1['bid_quantity_2']+\\\n",
    "        U1['bid_quantity_3']+U1['bid_quantity_4']+\\\n",
    "        U1['bid_quantity_5'] )/5"
   ]
  },
  {
   "cell_type": "code",
   "execution_count": 54,
   "id": "424855d2",
   "metadata": {},
   "outputs": [],
   "source": [
    "#Accumulated Differences\n",
    "U5_1=pd.DataFrame()\n",
    "for i in range(1,6,1):\n",
    "    U5_1[f'price_diff_level_{i}'] = U1[f'ask_price_level_{i}']-\\\n",
    "        U1[f'bid_price_level_{i}']\n",
    "    U5_1[f'vol_diff_level_{i}'] = U1[f'ask_quantity_{i}']-\\\n",
    "        U1[f'bid_quantity_{i}']"
   ]
  },
  {
   "cell_type": "code",
   "execution_count": 55,
   "id": "ac1ef95c",
   "metadata": {},
   "outputs": [],
   "source": [
    "U5=pd.DataFrame()\n",
    "U5['cum_price_diff'] = U5_1['price_diff_level_1'] + U5_1['price_diff_level_2']+\\\n",
    "    U5_1['price_diff_level_3'] + U5_1['price_diff_level_4']+\\\n",
    "    U5_1['price_diff_level_5']\n",
    "\n",
    "U5['cum_vol_diff'] = U5_1['vol_diff_level_1'] + U5_1['vol_diff_level_2']+\\\n",
    "    U5_1['vol_diff_level_3'] + U5_1['vol_diff_level_4']+\\\n",
    "    U5_1['vol_diff_level_5']"
   ]
  },
  {
   "cell_type": "markdown",
   "id": "368099c6",
   "metadata": {},
   "source": [
    "## Построение моделей"
   ]
  },
  {
   "cell_type": "markdown",
   "id": "0cb5c519",
   "metadata": {},
   "source": [
    "#### Линейная регрессия с L2 регуляризацией"
   ]
  },
  {
   "cell_type": "code",
   "execution_count": 37,
   "id": "1e41be90",
   "metadata": {},
   "outputs": [],
   "source": [
    "from sklearn.linear_model import Ridge\n",
    "from sklearn.model_selection import train_test_split"
   ]
  },
  {
   "cell_type": "code",
   "execution_count": 56,
   "id": "57fa9e33",
   "metadata": {},
   "outputs": [],
   "source": [
    "X=U1.join(U2).join(U3).join(U4).join(U5)\n",
    "y=data.y['Unnamed: 208_level_1'].rename('y').to_frame().y\n",
    "#y=data['y']"
   ]
  },
  {
   "cell_type": "code",
   "execution_count": 57,
   "id": "69e3e99a",
   "metadata": {},
   "outputs": [],
   "source": [
    "del U1,U2,U3,U4,U5"
   ]
  },
  {
   "cell_type": "code",
   "execution_count": 58,
   "id": "9a07fcab",
   "metadata": {},
   "outputs": [],
   "source": [
    "#expand X by 1.0 column\n",
    "X.insert(0, \"intercept\", 1)"
   ]
  },
  {
   "cell_type": "code",
   "execution_count": 59,
   "id": "9be8b7d3",
   "metadata": {},
   "outputs": [],
   "source": [
    "X_train, X_test, y_train, y_test = train_test_split(X,y,test_size=0.3)"
   ]
  },
  {
   "cell_type": "code",
   "execution_count": 60,
   "id": "7f9d164e",
   "metadata": {},
   "outputs": [],
   "source": [
    "ridge=Ridge(fit_intercept=False)"
   ]
  },
  {
   "cell_type": "code",
   "execution_count": 61,
   "id": "9e3af31f",
   "metadata": {},
   "outputs": [
    {
     "data": {
      "text/plain": [
       "Ridge(fit_intercept=False)"
      ]
     },
     "execution_count": 61,
     "metadata": {},
     "output_type": "execute_result"
    }
   ],
   "source": [
    "ridge.fit(X_train,y_train)"
   ]
  },
  {
   "cell_type": "code",
   "execution_count": 62,
   "id": "042fa5a8",
   "metadata": {},
   "outputs": [],
   "source": [
    "y_pred=pd.Series(ridge.predict(X_test))"
   ]
  },
  {
   "cell_type": "code",
   "execution_count": 63,
   "id": "3f718a9a",
   "metadata": {},
   "outputs": [],
   "source": [
    "#fig,ax=plt.subplots(figsize=(12,8))\n",
    "##ax1=y_test.plot(label='fact')\n",
    "#ax2=y_pred.plot(label='pred')\n",
    "#plt.legend()"
   ]
  },
  {
   "cell_type": "code",
   "execution_count": 64,
   "id": "a81c3666",
   "metadata": {},
   "outputs": [],
   "source": [
    "from sklearn.metrics import r2_score,mean_squared_error"
   ]
  },
  {
   "cell_type": "markdown",
   "id": "36a86911",
   "metadata": {},
   "source": [
    "Результат на датасете из слака:"
   ]
  },
  {
   "cell_type": "code",
   "execution_count": 65,
   "id": "678386e4",
   "metadata": {},
   "outputs": [
    {
     "data": {
      "text/plain": [
       "0.008138032182456567"
      ]
     },
     "execution_count": 65,
     "metadata": {},
     "output_type": "execute_result"
    }
   ],
   "source": [
    "r2_score(y_test,y_pred)"
   ]
  },
  {
   "cell_type": "code",
   "execution_count": 66,
   "id": "5e1f5edb",
   "metadata": {},
   "outputs": [
    {
     "data": {
      "text/plain": [
       "0.004971121935029167"
      ]
     },
     "execution_count": 66,
     "metadata": {},
     "output_type": "execute_result"
    }
   ],
   "source": [
    "mean_squared_error(y_test,y_pred)"
   ]
  },
  {
   "cell_type": "markdown",
   "id": "c7a89d03",
   "metadata": {},
   "source": [
    "Результат на датасете с соревнования:"
   ]
  },
  {
   "cell_type": "code",
   "execution_count": 25,
   "id": "0a0857f8",
   "metadata": {},
   "outputs": [
    {
     "data": {
      "text/plain": [
       "0.9999991173925106"
      ]
     },
     "execution_count": 25,
     "metadata": {},
     "output_type": "execute_result"
    }
   ],
   "source": [
    "r2_score(y_test,y_pred)"
   ]
  },
  {
   "cell_type": "code",
   "execution_count": 26,
   "id": "725a2b51",
   "metadata": {},
   "outputs": [
    {
     "data": {
      "text/plain": [
       "2.1686369920301095e-05"
      ]
     },
     "execution_count": 26,
     "metadata": {},
     "output_type": "execute_result"
    }
   ],
   "source": [
    "mean_squared_error(y_test,y_pred)"
   ]
  },
  {
   "cell_type": "markdown",
   "id": "a3dbab1f",
   "metadata": {},
   "source": [
    "#### Регрессия случайным лесом"
   ]
  },
  {
   "cell_type": "code",
   "execution_count": 132,
   "id": "78267af3",
   "metadata": {},
   "outputs": [],
   "source": [
    "from sklearn.ensemble import RandomForestRegressor"
   ]
  },
  {
   "cell_type": "code",
   "execution_count": 134,
   "id": "e1f75178",
   "metadata": {},
   "outputs": [],
   "source": [
    "from sklearn.model_selection import GridSearchCV"
   ]
  },
  {
   "cell_type": "code",
   "execution_count": null,
   "id": "ad2d302b",
   "metadata": {},
   "outputs": [],
   "source": [
    "dtr=RandomForestRegressor(random_state=0)"
   ]
  },
  {
   "cell_type": "code",
   "execution_count": 135,
   "id": "a2ebabd4",
   "metadata": {},
   "outputs": [],
   "source": [
    "parameters = {\n",
    "    #'n_estimators': [50,75],\n",
    "    'max_depth': [1,2,3,4],\n",
    "}"
   ]
  },
  {
   "cell_type": "code",
   "execution_count": 136,
   "id": "58be43ca",
   "metadata": {},
   "outputs": [],
   "source": [
    "#grid_search=GridSearchCV(dtr, parameters)"
   ]
  },
  {
   "cell_type": "code",
   "execution_count": 137,
   "id": "5a0d58e7",
   "metadata": {},
   "outputs": [
    {
     "data": {
      "text/plain": [
       "GridSearchCV(estimator=RandomForestRegressor(random_state=0),\n",
       "             param_grid={'max_depth': [1, 2, 3, 4]})"
      ]
     },
     "execution_count": 137,
     "metadata": {},
     "output_type": "execute_result"
    }
   ],
   "source": [
    "#долго бежит\n",
    "#grid_search.fit(X_train,y_train)"
   ]
  },
  {
   "cell_type": "code",
   "execution_count": 138,
   "id": "f1823496",
   "metadata": {},
   "outputs": [
    {
     "data": {
      "text/plain": [
       "{'max_depth': 4}"
      ]
     },
     "execution_count": 138,
     "metadata": {},
     "output_type": "execute_result"
    }
   ],
   "source": [
    "grid_search.best_params_"
   ]
  },
  {
   "cell_type": "code",
   "execution_count": 139,
   "id": "9bf56aad",
   "metadata": {},
   "outputs": [],
   "source": [
    "best_clf=grid_search.best_estimator_"
   ]
  },
  {
   "cell_type": "code",
   "execution_count": null,
   "id": "ae34f291",
   "metadata": {},
   "outputs": [],
   "source": []
  },
  {
   "cell_type": "code",
   "execution_count": 140,
   "id": "36406d87",
   "metadata": {},
   "outputs": [
    {
     "data": {
      "text/plain": [
       "RandomForestRegressor(random_state=0)"
      ]
     },
     "execution_count": 140,
     "metadata": {},
     "output_type": "execute_result"
    }
   ],
   "source": [
    "dtr.fit(X_train,y_train)"
   ]
  },
  {
   "cell_type": "code",
   "execution_count": 141,
   "id": "02a04f97",
   "metadata": {},
   "outputs": [],
   "source": [
    "y_pred_best=best_clf.predict(X_test)"
   ]
  },
  {
   "cell_type": "code",
   "execution_count": 142,
   "id": "98a58416",
   "metadata": {},
   "outputs": [],
   "source": [
    "y_pred=pd.Series(dtr.predict(X_test))"
   ]
  },
  {
   "cell_type": "markdown",
   "id": "1c3da116",
   "metadata": {},
   "source": [
    "Результат на случайном лесе со стандартными параметрами (датасет из слэка):"
   ]
  },
  {
   "cell_type": "code",
   "execution_count": 143,
   "id": "c1373176",
   "metadata": {},
   "outputs": [
    {
     "data": {
      "text/plain": [
       "0.31946552864731115"
      ]
     },
     "execution_count": 143,
     "metadata": {},
     "output_type": "execute_result"
    }
   ],
   "source": [
    "r2_score(y_test,y_pred)"
   ]
  },
  {
   "cell_type": "code",
   "execution_count": 144,
   "id": "75f8dc8a",
   "metadata": {},
   "outputs": [
    {
     "data": {
      "text/plain": [
       "0.0034413360553631604"
      ]
     },
     "execution_count": 144,
     "metadata": {},
     "output_type": "execute_result"
    }
   ],
   "source": [
    "mean_squared_error(y_test,y_pred)"
   ]
  },
  {
   "cell_type": "markdown",
   "id": "c09a8387",
   "metadata": {},
   "source": [
    "Результат на случайном лесе с максимальной глубиной 4:"
   ]
  },
  {
   "cell_type": "code",
   "execution_count": 148,
   "id": "34895ab9",
   "metadata": {},
   "outputs": [
    {
     "data": {
      "text/plain": [
       "0.029113875078265572"
      ]
     },
     "execution_count": 148,
     "metadata": {},
     "output_type": "execute_result"
    }
   ],
   "source": [
    "r2_score(y_test,y_pred_best)"
   ]
  },
  {
   "cell_type": "code",
   "execution_count": 147,
   "id": "2de85542",
   "metadata": {},
   "outputs": [
    {
     "data": {
      "text/plain": [
       "0.004909590282331825"
      ]
     },
     "execution_count": 147,
     "metadata": {},
     "output_type": "execute_result"
    }
   ],
   "source": [
    "mean_squared_error(y_test,y_pred_best)"
   ]
  },
  {
   "cell_type": "code",
   "execution_count": null,
   "id": "1b1e3fc1",
   "metadata": {},
   "outputs": [],
   "source": []
  }
 ],
 "metadata": {
  "kernelspec": {
   "display_name": "Python 3 (ipykernel)",
   "language": "python",
   "name": "python3"
  },
  "language_info": {
   "codemirror_mode": {
    "name": "ipython",
    "version": 3
   },
   "file_extension": ".py",
   "mimetype": "text/x-python",
   "name": "python",
   "nbconvert_exporter": "python",
   "pygments_lexer": "ipython3",
   "version": "3.9.12"
  }
 },
 "nbformat": 4,
 "nbformat_minor": 5
}
