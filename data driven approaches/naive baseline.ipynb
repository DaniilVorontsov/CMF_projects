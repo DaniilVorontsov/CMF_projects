{
 "cells": [
  {
   "cell_type": "markdown",
   "metadata": {
    "id": "K1CtgP0fKAFK"
   },
   "source": [
    "# Scoring notebook"
   ]
  },
  {
   "cell_type": "markdown",
   "metadata": {
    "id": "g9YvKj9TOfYP"
   },
   "source": [
    "This is the scoring notebook for the data driven competition at CMF 2022. You can change cells with `### YOUR CODE HERE` line, all other cells are read-only. However, you can add new cells to organize your code in a convenient way."
   ]
  },
  {
   "cell_type": "code",
   "execution_count": 1,
   "metadata": {
    "ExecuteTime": {
     "end_time": "2022-10-27T20:44:47.071844Z",
     "start_time": "2022-10-27T20:44:47.068841Z"
    },
    "id": "0qzJFDQLcVCs"
   },
   "outputs": [],
   "source": [
    "import pandas as pd\n",
    "import numpy as np\n",
    "from tqdm.notebook import tqdm\n",
    "from sklearn.metrics import mean_squared_error as mse\n",
    "import matplotlib.pyplot as plt"
   ]
  },
  {
   "cell_type": "markdown",
   "metadata": {
    "id": "o48M91RuOfYR"
   },
   "source": [
    "Let us load the dataset. Columns in the test (public as well as private) dataset are equivalent to the train dataset."
   ]
  },
  {
   "cell_type": "code",
   "execution_count": 2,
   "metadata": {
    "id": "62mrsSKROfYR",
    "nbgrader": {
     "grade": false,
     "grade_id": "cell-7d61050afd976237",
     "locked": true,
     "schema_version": 3,
     "solution": false,
     "task": false
    }
   },
   "outputs": [
    {
     "data": {
      "text/html": [
       "<div>\n",
       "<style scoped>\n",
       "    .dataframe tbody tr th:only-of-type {\n",
       "        vertical-align: middle;\n",
       "    }\n",
       "\n",
       "    .dataframe tbody tr th {\n",
       "        vertical-align: top;\n",
       "    }\n",
       "\n",
       "    .dataframe thead tr th {\n",
       "        text-align: left;\n",
       "    }\n",
       "</style>\n",
       "<table border=\"1\" class=\"dataframe\">\n",
       "  <thead>\n",
       "    <tr>\n",
       "      <th>timestamp_second</th>\n",
       "      <th colspan=\"8\" halign=\"left\">bid_price_0</th>\n",
       "      <th colspan=\"2\" halign=\"left\">bid_quantity_0</th>\n",
       "      <th>...</th>\n",
       "      <th colspan=\"8\" halign=\"left\">sell_trade_quantity</th>\n",
       "      <th>count</th>\n",
       "      <th>price</th>\n",
       "    </tr>\n",
       "    <tr>\n",
       "      <th></th>\n",
       "      <th>nunique</th>\n",
       "      <th>mean</th>\n",
       "      <th>median</th>\n",
       "      <th>std</th>\n",
       "      <th>min</th>\n",
       "      <th>max</th>\n",
       "      <th>first</th>\n",
       "      <th>last</th>\n",
       "      <th>sum</th>\n",
       "      <th>nunique</th>\n",
       "      <th>...</th>\n",
       "      <th>nunique</th>\n",
       "      <th>mean</th>\n",
       "      <th>median</th>\n",
       "      <th>std</th>\n",
       "      <th>min</th>\n",
       "      <th>max</th>\n",
       "      <th>first</th>\n",
       "      <th>last</th>\n",
       "      <th>count</th>\n",
       "      <th>price</th>\n",
       "    </tr>\n",
       "  </thead>\n",
       "  <tbody>\n",
       "    <tr>\n",
       "      <th>0</th>\n",
       "      <td>7</td>\n",
       "      <td>44.183379</td>\n",
       "      <td>44.1865</td>\n",
       "      <td>0.007340</td>\n",
       "      <td>44.171</td>\n",
       "      <td>44.190</td>\n",
       "      <td>44.171</td>\n",
       "      <td>44.190</td>\n",
       "      <td>25880.7</td>\n",
       "      <td>5</td>\n",
       "      <td>...</td>\n",
       "      <td>0</td>\n",
       "      <td>NaN</td>\n",
       "      <td>NaN</td>\n",
       "      <td>NaN</td>\n",
       "      <td>NaN</td>\n",
       "      <td>NaN</td>\n",
       "      <td>NaN</td>\n",
       "      <td>NaN</td>\n",
       "      <td>66</td>\n",
       "      <td>44.2005</td>\n",
       "    </tr>\n",
       "    <tr>\n",
       "      <th>1</th>\n",
       "      <td>1</td>\n",
       "      <td>44.190000</td>\n",
       "      <td>44.1900</td>\n",
       "      <td>0.000000</td>\n",
       "      <td>44.190</td>\n",
       "      <td>44.190</td>\n",
       "      <td>44.190</td>\n",
       "      <td>44.190</td>\n",
       "      <td>76.7</td>\n",
       "      <td>1</td>\n",
       "      <td>...</td>\n",
       "      <td>0</td>\n",
       "      <td>NaN</td>\n",
       "      <td>NaN</td>\n",
       "      <td>NaN</td>\n",
       "      <td>NaN</td>\n",
       "      <td>NaN</td>\n",
       "      <td>NaN</td>\n",
       "      <td>NaN</td>\n",
       "      <td>13</td>\n",
       "      <td>44.2195</td>\n",
       "    </tr>\n",
       "    <tr>\n",
       "      <th>2</th>\n",
       "      <td>3</td>\n",
       "      <td>44.187467</td>\n",
       "      <td>44.1860</td>\n",
       "      <td>0.001767</td>\n",
       "      <td>44.186</td>\n",
       "      <td>44.190</td>\n",
       "      <td>44.190</td>\n",
       "      <td>44.186</td>\n",
       "      <td>597.5</td>\n",
       "      <td>3</td>\n",
       "      <td>...</td>\n",
       "      <td>0</td>\n",
       "      <td>NaN</td>\n",
       "      <td>NaN</td>\n",
       "      <td>NaN</td>\n",
       "      <td>NaN</td>\n",
       "      <td>NaN</td>\n",
       "      <td>NaN</td>\n",
       "      <td>NaN</td>\n",
       "      <td>15</td>\n",
       "      <td>44.2195</td>\n",
       "    </tr>\n",
       "    <tr>\n",
       "      <th>3</th>\n",
       "      <td>3</td>\n",
       "      <td>44.181038</td>\n",
       "      <td>44.1860</td>\n",
       "      <td>0.006993</td>\n",
       "      <td>44.173</td>\n",
       "      <td>44.188</td>\n",
       "      <td>44.186</td>\n",
       "      <td>44.188</td>\n",
       "      <td>2062.8</td>\n",
       "      <td>2</td>\n",
       "      <td>...</td>\n",
       "      <td>0</td>\n",
       "      <td>NaN</td>\n",
       "      <td>NaN</td>\n",
       "      <td>NaN</td>\n",
       "      <td>NaN</td>\n",
       "      <td>NaN</td>\n",
       "      <td>NaN</td>\n",
       "      <td>NaN</td>\n",
       "      <td>52</td>\n",
       "      <td>44.2175</td>\n",
       "    </tr>\n",
       "    <tr>\n",
       "      <th>4</th>\n",
       "      <td>2</td>\n",
       "      <td>44.213095</td>\n",
       "      <td>44.2190</td>\n",
       "      <td>0.012474</td>\n",
       "      <td>44.188</td>\n",
       "      <td>44.219</td>\n",
       "      <td>44.188</td>\n",
       "      <td>44.219</td>\n",
       "      <td>6350.8</td>\n",
       "      <td>2</td>\n",
       "      <td>...</td>\n",
       "      <td>0</td>\n",
       "      <td>NaN</td>\n",
       "      <td>NaN</td>\n",
       "      <td>NaN</td>\n",
       "      <td>NaN</td>\n",
       "      <td>NaN</td>\n",
       "      <td>NaN</td>\n",
       "      <td>NaN</td>\n",
       "      <td>21</td>\n",
       "      <td>44.2060</td>\n",
       "    </tr>\n",
       "  </tbody>\n",
       "</table>\n",
       "<p>5 rows × 210 columns</p>\n",
       "</div>"
      ],
      "text/plain": [
       "timestamp_second bid_price_0                                                \\\n",
       "                     nunique       mean   median       std     min     max   \n",
       "0                          7  44.183379  44.1865  0.007340  44.171  44.190   \n",
       "1                          1  44.190000  44.1900  0.000000  44.190  44.190   \n",
       "2                          3  44.187467  44.1860  0.001767  44.186  44.190   \n",
       "3                          3  44.181038  44.1860  0.006993  44.173  44.188   \n",
       "4                          2  44.213095  44.2190  0.012474  44.188  44.219   \n",
       "\n",
       "timestamp_second                 bid_quantity_0          ...  \\\n",
       "                   first    last            sum nunique  ...   \n",
       "0                 44.171  44.190        25880.7       5  ...   \n",
       "1                 44.190  44.190           76.7       1  ...   \n",
       "2                 44.190  44.186          597.5       3  ...   \n",
       "3                 44.186  44.188         2062.8       2  ...   \n",
       "4                 44.188  44.219         6350.8       2  ...   \n",
       "\n",
       "timestamp_second sell_trade_quantity                                    count  \\\n",
       "                             nunique mean median std min max first last count   \n",
       "0                                  0  NaN    NaN NaN NaN NaN   NaN  NaN    66   \n",
       "1                                  0  NaN    NaN NaN NaN NaN   NaN  NaN    13   \n",
       "2                                  0  NaN    NaN NaN NaN NaN   NaN  NaN    15   \n",
       "3                                  0  NaN    NaN NaN NaN NaN   NaN  NaN    52   \n",
       "4                                  0  NaN    NaN NaN NaN NaN   NaN  NaN    21   \n",
       "\n",
       "timestamp_second    price  \n",
       "                    price  \n",
       "0                 44.2005  \n",
       "1                 44.2195  \n",
       "2                 44.2195  \n",
       "3                 44.2175  \n",
       "4                 44.2060  \n",
       "\n",
       "[5 rows x 210 columns]"
      ]
     },
     "execution_count": 2,
     "metadata": {},
     "output_type": "execute_result"
    }
   ],
   "source": [
    "dataset = pd.read_csv('dataset.zip', index_col=0, header=[0, 1])\n",
    "dataset.rename(\n",
    "    columns={\n",
    "        'Unnamed: 209_level_1': 'count',\n",
    "        'Unnamed: 210_level_1': 'price',\n",
    "    },\n",
    "    level = 1,\n",
    "    inplace = True\n",
    ")\n",
    "dataset.head()"
   ]
  },
  {
   "cell_type": "code",
   "execution_count": 3,
   "metadata": {
    "ExecuteTime": {
     "end_time": "2022-10-29T13:58:28.907237Z",
     "start_time": "2022-10-29T13:58:28.901231Z"
    },
    "id": "sIGbu6FEeVKw",
    "nbgrader": {
     "grade": false,
     "grade_id": "cell-170d40d54ca69e5e",
     "locked": true,
     "schema_version": 3,
     "solution": false,
     "task": false
    }
   },
   "outputs": [],
   "source": [
    "class Dataloader():\n",
    "    def __init__(\n",
    "        self, \n",
    "        dataframe: pd.DataFrame, \n",
    "        window_size: int, \n",
    "        step_size: int,\n",
    "        horizon: int,\n",
    "        first_pred: int\n",
    "    ):\n",
    "        self.df = dataframe\n",
    "        self.window_size = window_size\n",
    "        self.step_size = step_size\n",
    "        self.horizon = horizon\n",
    "        self.first_pred = first_pred\n",
    "        assert self.first_pred > self.window_size\n",
    "        feat_idx = []\n",
    "        target_idx = []\n",
    "        for i in range(self.first_pred, self.df.shape[0], self.step_size):\n",
    "            feat_idx.append(range(i-self.horizon-self.window_size+1, i-self.horizon+1))\n",
    "            target_idx.append(i)\n",
    "        self.feat_idx = feat_idx\n",
    "        self.target_idx = target_idx\n",
    "    \n",
    "    def __len__(self):\n",
    "        return len(self.feat_idx)\n",
    "    \n",
    "    def __iter__(self):\n",
    "        self.iter = 0\n",
    "        return self\n",
    "\n",
    "    def __next__(self):\n",
    "        if self.iter < len(self.feat_idx):\n",
    "            feat = self.df.iloc[self.feat_idx[self.iter]]\n",
    "            target = self.df.iloc[self.target_idx[self.iter], -1]\n",
    "            self.iter += 1\n",
    "            return feat, target\n",
    "        else:\n",
    "            raise StopIteration"
   ]
  },
  {
   "cell_type": "markdown",
   "metadata": {
    "id": "0ulpVcM8OfYT"
   },
   "source": [
    "Column **price** represents the price at moment **t**. The task is to predict **price** values at moment **t+60**."
   ]
  },
  {
   "cell_type": "markdown",
   "metadata": {
    "ExecuteTime": {
     "end_time": "2022-10-29T13:42:43.686484Z",
     "start_time": "2022-10-29T13:42:43.683481Z"
    },
    "id": "-d7ua4ieOfYT"
   },
   "source": [
    "The forecasting problem is defined as follows. Consider the multivariate time series of features (exogenous variables) $X_0, X_1, \\dots $ where $X_i \\in \\mathbb{R}^d$. Consider the univariate time series of targets (endogenous variables) $y_0, y_1, ...$ where $y_i \\in \\mathbb{R}$. The task is to predict the $y_{T+h}$ where $T \\in \\{1000, 1001, \\dots\\}$ is the last available time stamp and $h = 60$ is the forecasting horizon by the given _sliding window_ over pairs $(X, y)_{T-N+1}, (X, y)_{T-N+2}, \\dots, (X, y)_T$ with the selected window size $1 \\leq N \\leq 1000$. The optimization problem is minimizing the mean squared error between predictions and targets.\n",
    "\n",
    "Select the window size appropriately to your solution."
   ]
  },
  {
   "cell_type": "code",
   "execution_count": 4,
   "metadata": {
    "ExecuteTime": {
     "end_time": "2022-10-29T13:58:29.952177Z",
     "start_time": "2022-10-29T13:58:29.950175Z"
    },
    "id": "O0KZx6v2Pskf",
    "nbgrader": {
     "grade": false,
     "grade_id": "cell-61cc58a96b92ec1d",
     "locked": false,
     "schema_version": 3,
     "solution": true,
     "task": false
    }
   },
   "outputs": [],
   "source": [
    "window_size = 1"
   ]
  },
  {
   "cell_type": "code",
   "execution_count": 5,
   "metadata": {
    "id": "ZrHTSxrfOfYU",
    "nbgrader": {
     "grade": false,
     "grade_id": "cell-36f1abaeb93458a9",
     "locked": true,
     "schema_version": 3,
     "solution": false,
     "task": false
    }
   },
   "outputs": [],
   "source": [
    "assert (1 <= window_size) and (window_size <= 1000)"
   ]
  },
  {
   "cell_type": "markdown",
   "metadata": {
    "id": "QPybw4ztOfYU"
   },
   "source": [
    "The dataloader defines the forecasting problem with the selected window size.\n",
    "\n",
    "**Remark**: first 1060 observations in both test datasets will not be scored."
   ]
  },
  {
   "cell_type": "code",
   "execution_count": 6,
   "metadata": {
    "ExecuteTime": {
     "end_time": "2022-10-29T13:58:31.362960Z",
     "start_time": "2022-10-29T13:58:30.675823Z"
    },
    "id": "NsXyUoocjeQ2",
    "nbgrader": {
     "grade": false,
     "grade_id": "cell-fbf2f36a091487d2",
     "locked": true,
     "schema_version": 3,
     "solution": false,
     "task": false
    }
   },
   "outputs": [
    {
     "data": {
      "text/plain": [
       "((1, 210), 44.0695)"
      ]
     },
     "execution_count": 6,
     "metadata": {},
     "output_type": "execute_result"
    }
   ],
   "source": [
    "loader = Dataloader(\n",
    "    dataframe=dataset, \n",
    "    window_size=window_size, \n",
    "    step_size=1, \n",
    "    horizon=60, \n",
    "    first_pred=1060)\n",
    "\n",
    "for feat, target in loader:\n",
    "    break\n",
    "feat.shape, target"
   ]
  },
  {
   "cell_type": "markdown",
   "metadata": {
    "id": "9XPAJnsROfYV"
   },
   "source": [
    "Define your forecasting model. You can install necessary libraries by `!pip install ... `. You can find installed packages in [requirements](https://github.com/vpozdnyakov/EvalAI/blob/master/requirements/worker.txt). Here is also CPU version of `torch==1.10.2`. Do not train the model here, instead download the weights of a pretrained model from your own cloud service, e.g. google drive by `gdown` as follows:\n",
    "\n",
    "```python\n",
    "!pip install gdown==4.2.0 -q\n",
    "url = ...\n",
    "gdown.download(url, 'model_scripted.pt', fuzzy=True)\n",
    "model = torch.jit.load('model_scripted.pt')\n",
    "```\n",
    "\n",
    "You can change the template by adding additional methods, parameters, etc."
   ]
  },
  {
   "cell_type": "code",
   "execution_count": 7,
   "metadata": {
    "ExecuteTime": {
     "end_time": "2022-10-29T13:58:31.956490Z",
     "start_time": "2022-10-29T13:58:31.953488Z"
    },
    "id": "bvCcRraKTv4f",
    "nbgrader": {
     "grade": false,
     "grade_id": "cell-b7cafa481754fe7b",
     "locked": false,
     "schema_version": 3,
     "solution": true,
     "task": false
    }
   },
   "outputs": [],
   "source": [
    "class ForecastingModel():\n",
    "    # Naive forecasting model\n",
    "    def __init__(self):\n",
    "        pass\n",
    "    def forecast(self, feat):\n",
    "        return feat.iloc[-1, -1]\n",
    "\n",
    "model = ForecastingModel()"
   ]
  },
  {
   "cell_type": "markdown",
   "metadata": {
    "id": "l0P97V54OfYV"
   },
   "source": [
    "In **forecast** function you can do preprocessing, e.g. deletion unnecessary data or aggregation."
   ]
  },
  {
   "cell_type": "code",
   "execution_count": 8,
   "metadata": {
    "ExecuteTime": {
     "end_time": "2022-10-29T13:58:33.353739Z",
     "start_time": "2022-10-29T13:58:33.351737Z"
    },
    "id": "f9cSEgUXQjOw",
    "nbgrader": {
     "grade": false,
     "grade_id": "cell-58771daef4fc0219",
     "locked": false,
     "schema_version": 3,
     "solution": true,
     "task": false
    }
   },
   "outputs": [],
   "source": [
    "def forecast(feat):\n",
    "    return model.forecast(feat)"
   ]
  },
  {
   "cell_type": "markdown",
   "metadata": {
    "id": "ROsu6AfVOfYW"
   },
   "source": [
    "Scoring the model."
   ]
  },
  {
   "cell_type": "code",
   "execution_count": 9,
   "metadata": {
    "ExecuteTime": {
     "end_time": "2022-10-29T14:04:01.728985Z",
     "start_time": "2022-10-29T13:58:34.895728Z"
    },
    "id": "BS66hiKrUaAg",
    "nbgrader": {
     "grade": true,
     "grade_id": "cell-feca7fa33d349c92",
     "locked": true,
     "points": 100,
     "schema_version": 3,
     "solution": false,
     "task": false
    }
   },
   "outputs": [
    {
     "data": {
      "text/plain": [
       "0.005813036416809094"
      ]
     },
     "execution_count": 9,
     "metadata": {},
     "output_type": "execute_result"
    }
   ],
   "source": [
    "pred = []\n",
    "target = []\n",
    "for feat, _target in loader:\n",
    "    pred.append(forecast(feat))\n",
    "    target.append(_target)\n",
    "mse(pred, target)"
   ]
  },
  {
   "cell_type": "markdown",
   "metadata": {
    "id": "pnMnbTL5OfYW"
   },
   "source": [
    "Let us draw the forecast visualization."
   ]
  },
  {
   "cell_type": "code",
   "execution_count": 10,
   "metadata": {
    "ExecuteTime": {
     "end_time": "2022-10-29T14:04:03.182285Z",
     "start_time": "2022-10-29T14:04:01.729986Z"
    },
    "id": "rGl3CYPqWODo"
   },
   "outputs": [
    {
     "data": {
      "image/png": "[encoded data removed]",
      "text/plain": [
       "<Figure size 864x288 with 1 Axes>"
      ]
     },
     "metadata": {
      "needs_background": "light"
     },
     "output_type": "display_data"
    }
   ],
   "source": [
    "plt.figure(figsize=(12, 4))\n",
    "plt.plot(target, label='target')\n",
    "plt.plot(pred, label='forecast')\n",
    "plt.title('Price of the asset')\n",
    "plt.legend()\n",
    "plt.show()"
   ]
  },
  {
   "cell_type": "markdown",
   "metadata": {
    "id": "vcgqwS-Yfvsv"
   },
   "source": [
    "Example of 1000 forecasts."
   ]
  },
  {
   "cell_type": "code",
   "execution_count": 11,
   "metadata": {
    "ExecuteTime": {
     "end_time": "2022-10-29T14:04:03.301392Z",
     "start_time": "2022-10-29T14:04:03.183286Z"
    },
    "id": "9JgCdniNdrne"
   },
   "outputs": [
    {
     "data": {
      "image/png": "[encoded data removed]",
      "text/plain": [
       "<Figure size 864x288 with 1 Axes>"
      ]
     },
     "metadata": {
      "needs_background": "light"
     },
     "output_type": "display_data"
    }
   ],
   "source": [
    "plt.figure(figsize=(12, 4))\n",
    "plt.plot(target[-100000:-99000], label='target')\n",
    "plt.plot(pred[-100000:-99000], label='forecast')\n",
    "plt.title('Price of the asset')\n",
    "plt.legend()\n",
    "plt.show()"
   ]
  },
  {
   "cell_type": "code",
   "execution_count": null,
   "metadata": {
    "id": "dtOAtruVfVtC"
   },
   "outputs": [],
   "source": []
  }
 ],
 "metadata": {
  "celltoolbar": "Create Assignment",
  "colab": {
   "provenance": []
  },
  "kernelspec": {
   "display_name": "Python 3 (ipykernel)",
   "language": "python",
   "name": "python3"
  },
  "language_info": {
   "codemirror_mode": {
    "name": "ipython",
    "version": 3
   },
   "file_extension": ".py",
   "mimetype": "text/x-python",
   "name": "python",
   "nbconvert_exporter": "python",
   "pygments_lexer": "ipython3",
   "version": "3.9.12"
  }
 },
 "nbformat": 4,
 "nbformat_minor": 1
}
