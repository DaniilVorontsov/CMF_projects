{
 "cells": [
  {
   "cell_type": "code",
   "execution_count": 100,
   "id": "84136497",
   "metadata": {},
   "outputs": [],
   "source": [
    "import pandas as pd\n",
    "import numpy as np\n",
    "from DBapi import get_option_data, get_options_info, get_index_price\n",
    "import matplotlib.pyplot as plt\n",
    "from datetime import date\n",
    "import datetime\n",
    "from scipy.optimize import minimize\n",
    "import seaborn as sns\n",
    "\n",
    "pd.options.mode.chained_assignment = None  # default='warn' заглушить SettingWithCopyWarning\n",
    "from IPython.display import display, Math #для красивых символов"
   ]
  },
  {
   "cell_type": "code",
   "execution_count": 255,
   "id": "012a8a09",
   "metadata": {},
   "outputs": [
    {
     "name": "stdout",
     "output_type": "stream",
     "text": [
      "Processing time: 0.42194199562072754\n"
     ]
    }
   ],
   "source": [
    "contract_names=get_options_info()"
   ]
  },
  {
   "cell_type": "code",
   "execution_count": 256,
   "id": "56b2b67d",
   "metadata": {},
   "outputs": [
    {
     "name": "stdout",
     "output_type": "stream",
     "text": [
      "Processing time: 52.36158990859985\n"
     ]
    }
   ],
   "source": [
    "df=get_option_data(contract_names['instrument_name'])"
   ]
  },
  {
   "cell_type": "code",
   "execution_count": 257,
   "id": "5fde54aa",
   "metadata": {},
   "outputs": [],
   "source": [
    "df_clear=df.drop(['underlying_index', 'state',\n",
    "       'settlement_price', 'open_interest', 'min_price', 'max_price',\n",
    "       'last_price', 'interest_rate',\n",
    "       'index_price', 'estimated_delivery_price',\n",
    "       'change_id', 'bids', 'bid_iv', 'best_bid_amount',\n",
    "       'best_ask_amount', 'asks', 'ask_iv', 'stats.volume',\n",
    "       'stats.price_change', 'stats.low', 'stats.high', 'greeks.vega',\n",
    "       'greeks.theta', 'greeks.rho', 'greeks.gamma', 'greeks.delta'], axis=1)"
   ]
  },
  {
   "cell_type": "code",
   "execution_count": 258,
   "id": "4db16636",
   "metadata": {},
   "outputs": [],
   "source": [
    "df_clear=df_clear.merge(contract_names[['instrument_name','expiration_timestamp']])\n",
    "df_clear['strike'] = df_clear.instrument_name.map(lambda x: int(x.split('-')[2]))\n",
    "df_clear['type'] = df_clear.instrument_name.map(lambda x: x.split('-')[3])\n",
    "df_clear=df_clear.rename(columns={'expiration_timestamp':'date_strike'})\n",
    "\n",
    "df_clear['T_strike']=(pd.to_datetime(df_clear.date_strike)-datetime.datetime.now()).dt.days/365\n",
    "\n",
    "df_clear['date_strike']=df_clear.date_strike.map(lambda x: date(int(x[:4]), int(x[5:7]), int(x[-2:])) )\n",
    "df_clear['time_to_exp']=(df_clear.date_strike-dt.datetime.today().date()).dt.days / 365"
   ]
  },
  {
   "cell_type": "code",
   "execution_count": 290,
   "id": "bbde4f7a",
   "metadata": {},
   "outputs": [],
   "source": [
    "class SABR:\n",
    "    def __init__(self, data: pd.DataFrame):\n",
    "        self.data = data\n",
    "\n",
    "        self.beta = 0.5\n",
    "\n",
    "        self.T = data.time_to_exp.iloc[0]\n",
    "        self.x0 = np.array([0.99, 0.00, 0.99])\n",
    "        self.bounds = [(0.0001, 1000.0), (-0.9999, 0.9999), (0.0001, 1000.0)]\n",
    "\n",
    "   \n",
    "\n",
    "    def sigma_b(self, f: float, K: float, T: float, alpha: float, rho: float, v: float):\n",
    "        \n",
    "        numerator1 = ( (1 - self.beta) ** 2 / 24 * alpha**2 / (f * K) ** (1 - self.beta) )\n",
    "        numerator2 = ( (rho * self.beta * v * alpha) / 4 * (f * K) ** ((1 - self.beta) / 2) )\n",
    "        numerator3 = (2 - 3 * rho**2) * v**2 / 24\n",
    "        \n",
    "        numerator = alpha * (1+ self.T * (numerator1 + numerator2 + numerator3) )\n",
    "\n",
    "        denominator1 = (1 - self.beta) ** 2 / 24 * (np.log(f / K)) ** 2\n",
    "        denominator2 = (1 - self.beta) ** 4 / 1920 * (np.log(f / K)) ** 4\n",
    "        \n",
    "        denominator = (f * K) ** ((1 - self.beta) / 2) * (1 + denominator1 + denominator2)\n",
    "\n",
    "        z = v / alpha * (f * K) ** ((1 - self.beta) / 2) * np.log(f / K)\n",
    "\n",
    "        xi = np.log((np.sqrt(1 - 2 * rho * z + z**2) + z - rho) / (1 - rho))\n",
    "\n",
    "        return numerator / denominator * z / xi\n",
    "\n",
    "    def plot_vol(self):\n",
    "        \n",
    "        def set_vols(alpha: float, rho: float, v: float):\n",
    "            volatilities = []\n",
    "            for index, row in self.data.iterrows():\n",
    "                sigma_modeled = self.sigma_b(\n",
    "                    row.underlying_price, row.strike, self.T, alpha, rho, v\n",
    "                )\n",
    "                volatilities.append(sigma_modeled)\n",
    "            return volatilities\n",
    "\n",
    "        self.data[\"vol_b\"] = set_vols(\n",
    "            self.alpha_scipy, self.rho_scipy, self.v_scipy\n",
    "        )\n",
    "        \n",
    "\n",
    "        fig, ax = plt.subplots(figsize=(15, 7))\n",
    "        ax = sns.lineplot(\n",
    "            x=\"strike\", y=\"vol_b\", data=self.data, label=\"SABR vol\"\n",
    "        )\n",
    "        \n",
    "        ax2 = sns.scatterplot(\n",
    "            x=\"strike\",\n",
    "            y=\"mark_iv\",\n",
    "            data=self.data,\n",
    "            label=\"Deribit vol\",\n",
    "            color=\"red\"\n",
    "        ).set_title(\"SABR volatility\")\n",
    "        ax.grid()\n",
    "        plt.rcParams[\"figure.autolayout\"] = True\n",
    "        plt.xlabel('Страйк цена К, USD',fontsize =14)\n",
    "        plt.ylabel('Вменённая волатильность $\\sigma_{impl}$',fontsize =14)\n",
    "\n",
    "    def vol_MSE(self, x: np.ndarray):\n",
    "        smile = self.data.mark_iv.to_numpy()\n",
    "        vols = []\n",
    "        for index, row in self.data.iterrows():\n",
    "            vols.append(\n",
    "                self.sigma_b(\n",
    "                    row[\"underlying_price\"], row[\"strike\"], self.T, x[0], x[1], x[2]\n",
    "                )\n",
    "            )\n",
    "        return sum((vols - smile) ** 2)\n",
    "\n",
    "    \n",
    "    def minimize_scipy(self):\n",
    "        return minimize(self.vol_MSE, x0=self.x0, bounds=self.bounds)\n",
    "\n",
    "    def run(self):\n",
    "        optimum_scipy = self.minimize_scipy()\n",
    "        self.alpha_scipy, self.rho_scipy, self.v_scipy = optimum_scipy.x\n",
    "        print('Yielded parameters:')\n",
    "        display(Math(r' \\alpha ={}, \\>  \\rho ={},\\> \\nu = {}'.format(round(self.alpha_scipy,3),\\\n",
    "                                                                    round(self.rho_scipy,5),\\\n",
    "                                                                    round(self.v_scipy,3)) ))\n",
    "        self.plot_vol()"
   ]
  },
  {
   "cell_type": "code",
   "execution_count": 291,
   "id": "0ac0e77e",
   "metadata": {},
   "outputs": [
    {
     "data": {
      "text/plain": [
       "array([datetime.date(2022, 11, 11), datetime.date(2022, 11, 12),\n",
       "       datetime.date(2022, 11, 18), datetime.date(2022, 11, 25),\n",
       "       datetime.date(2022, 12, 2), datetime.date(2022, 12, 30),\n",
       "       datetime.date(2023, 1, 27), datetime.date(2023, 3, 31),\n",
       "       datetime.date(2023, 6, 30), datetime.date(2023, 9, 29)],\n",
       "      dtype=object)"
      ]
     },
     "execution_count": 291,
     "metadata": {},
     "output_type": "execute_result"
    }
   ],
   "source": [
    "df_clear.date_strike.unique()"
   ]
  },
  {
   "cell_type": "code",
   "execution_count": 292,
   "id": "13240fae",
   "metadata": {},
   "outputs": [
    {
     "name": "stdout",
     "output_type": "stream",
     "text": [
      "Yielded parameters:\n"
     ]
    },
    {
     "data": {
      "text/latex": [
       "$\\displaystyle  \\alpha =100.388, \\>  \\rho =0.23542,\\> \\nu = 9.891$"
      ],
      "text/plain": [
       "<IPython.core.display.Math object>"
      ]
     },
     "metadata": {},
     "output_type": "display_data"
    },
    {
     "data": {
      "image/png": "[encoded data removed]",
      "text/plain": [
       "<Figure size 1080x504 with 1 Axes>"
      ]
     },
     "metadata": {
      "needs_background": "light"
     },
     "output_type": "display_data"
    }
   ],
   "source": [
    "maturity=datetime.date(2022, 11, 18)\n",
    "sabr = SABR(df_clear[df_clear.date_strike==maturity])\n",
    "sabr.run()"
   ]
  },
  {
   "cell_type": "code",
   "execution_count": null,
   "id": "37fe52f8",
   "metadata": {},
   "outputs": [],
   "source": []
  }
 ],
 "metadata": {
  "kernelspec": {
   "display_name": "Python 3 (ipykernel)",
   "language": "python",
   "name": "python3"
  },
  "language_info": {
   "codemirror_mode": {
    "name": "ipython",
    "version": 3
   },
   "file_extension": ".py",
   "mimetype": "text/x-python",
   "name": "python",
   "nbconvert_exporter": "python",
   "pygments_lexer": "ipython3",
   "version": "3.9.12"
  }
 },
 "nbformat": 4,
 "nbformat_minor": 5
}
